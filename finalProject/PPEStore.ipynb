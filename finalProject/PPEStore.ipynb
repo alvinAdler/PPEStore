{
 "cells": [
  {
   "cell_type": "markdown",
   "metadata": {},
   "source": [
    "## FINAL CAPSTONE PROJECT\n",
    "## PERSONAL PROTECTIVE EQUIPMENTS STORE\n",
    "\n",
    "This is a store that will works with database to keep track of the item's price and stock. In the end of purchasement, customer can print out reciept in the form of simple file-stream that will be saved locally. <br>\n",
    "This is a local application and for education purpose only. This is not a real-world utility application."
   ]
  },
  {
   "cell_type": "markdown",
   "metadata": {},
   "source": [
    "## Import Library"
   ]
  },
  {
   "cell_type": "code",
   "execution_count": 1,
   "metadata": {},
   "outputs": [],
   "source": [
    "from IPython.display import clear_output\n",
    "import pyodbc\n",
    "import pdb\n",
    "import datetime"
   ]
  },
  {
   "cell_type": "markdown",
   "metadata": {},
   "source": [
    "## Database setup"
   ]
  },
  {
   "cell_type": "code",
   "execution_count": 2,
   "metadata": {},
   "outputs": [
    {
     "data": {
      "text/plain": [
       "<pyodbc.Cursor at 0x20d3036a4b0>"
      ]
     },
     "execution_count": 2,
     "metadata": {},
     "output_type": "execute_result"
    }
   ],
   "source": [
    "dbConn = pyodbc.connect(\n",
    "    'Driver={SQL Server};'\n",
    "    'Server=LAPTOP-LM5VM6EL\\SQLEXPRESS;'\n",
    "    'Database=PythonStore;'\n",
    "    'Trusted_Connection=yes;'\n",
    ")\n",
    "\n",
    "dbCursor = dbConn.cursor()\n",
    "\n",
    "dbCursor.execute(\"SELECT * FROM Items\")"
   ]
  },
  {
   "cell_type": "code",
   "execution_count": 3,
   "metadata": {},
   "outputs": [],
   "source": [
    "itemList = [item for item in dbCursor]"
   ]
  },
  {
   "cell_type": "code",
   "execution_count": 4,
   "metadata": {},
   "outputs": [
    {
     "name": "stdout",
     "output_type": "stream",
     "text": [
      "('Hand Sanitizer', 101, 30000, 15)\n",
      "('Q-Mask', 102, 45000, 20)\n",
      "('Easy-Mask', 103, 60000, 20)\n",
      "('Face Shield OC', 104, 60000, 15)\n",
      "('Thermo Gun STD', 105, 650000, 15)\n",
      "('Thermo Gun LSR', 106, 750000, 10)\n",
      "('Thermo Gun FLT', 107, 700000, 10)\n",
      "('Thermo Gun VCE', 108, 800000, 8)\n",
      "('Mdc Gloves NTRL', 109, 5000, 50)\n",
      "('Mdc Mask STD', 110, 4000, 50)\n"
     ]
    }
   ],
   "source": [
    "for item in itemList:\n",
    "    print(item)"
   ]
  },
  {
   "cell_type": "code",
   "execution_count": 76,
   "metadata": {},
   "outputs": [
    {
     "data": {
      "text/plain": [
       "101"
      ]
     },
     "execution_count": 76,
     "metadata": {},
     "output_type": "execute_result"
    }
   ],
   "source": [
    "itemList[0][1]"
   ]
  },
  {
   "cell_type": "code",
   "execution_count": null,
   "metadata": {},
   "outputs": [],
   "source": []
  },
  {
   "cell_type": "markdown",
   "metadata": {},
   "source": [
    "## Classes"
   ]
  },
  {
   "cell_type": "code",
   "execution_count": 5,
   "metadata": {},
   "outputs": [],
   "source": [
    "class Customer():\n",
    "    def __init__(self, name):\n",
    "        '''\n",
    "        #Later on, this is going to be list of dictionaries where the format: \n",
    "        #[\n",
    "        #{itemID1 : {\"itemName1\":\"name1\", \"itemPrice1\":price1, \"itemBuyQuant1\":quant1, \"itemSubtotal1\":subtotal1}},\n",
    "        #{itemID2 : {\"itemName2\":\"name2\", \"itemPrice2\":price2, \"itemBuyQuant2\":quant2, \"itemSubTotal2\":subtotal2}},\n",
    "        #ETC. . .\n",
    "        #]\n",
    "        '''\n",
    "        self.name = name\n",
    "        self.cart = {}\n",
    "        self.totalPrice = 0\n",
    "        \n",
    "    def __str__(self):\n",
    "        tempCart = \"\"\n",
    "        for item in self.cart.items():\n",
    "            tempCart += item + \"\\n\"\n",
    "            \n",
    "        customer = f\"Hello my name is {self.name}\\n My item in cart: {tempCart}\\nThe total price: {self.totalPrice}\"\n",
    "        \n",
    "        return customer\n",
    "    \n",
    "    def addToChart(self, item, itemID):\n",
    "        #We expect item to be a dictionary that has dictionary as a pair value. \n",
    "        if itemID in self.cart.keys():\n",
    "            self.cart[itemID][\"itemQuant\"] += item[itemID][\"itemQuant\"]\n",
    "            self.cart[itemID][\"subTotal\"] += item[itemID][\"subTotal\"]\n",
    "        else:\n",
    "            self.cart.update(item)\n",
    "            \n",
    "    def removeFromChart(self, removeQuant, itemID):\n",
    "        currentItemQuant = self.cart[itemID][\"itemQuant\"]\n",
    "        if removeQuant == currentItemQuant:\n",
    "            del self.cart[itemID]\n",
    "        else:\n",
    "            newQuant = currentItemQuant - removeQuant\n",
    "            self.cart[itemID][\"itemQuant\"] = newQuant\n",
    "            \n",
    "            itemPrice = self.cart[itemID][\"itemPrice\"]\n",
    "            \n",
    "            newSubTotal = itemPrice * newQuant\n",
    "            self.cart[itemID][\"subTotal\"] = newSubTotal"
   ]
  },
  {
   "cell_type": "code",
   "execution_count": null,
   "metadata": {},
   "outputs": [],
   "source": []
  },
  {
   "cell_type": "code",
   "execution_count": null,
   "metadata": {},
   "outputs": [],
   "source": []
  },
  {
   "cell_type": "code",
   "execution_count": null,
   "metadata": {},
   "outputs": [],
   "source": []
  },
  {
   "cell_type": "markdown",
   "metadata": {},
   "source": [
    "## Functions"
   ]
  },
  {
   "cell_type": "code",
   "execution_count": 6,
   "metadata": {},
   "outputs": [],
   "source": [
    "def dispItemName(itemList):\n",
    "    template = \"{0:^2} | {1:^15} | {3:<8}\"\n",
    "    print(template.format(\"NO\", \"ITEM LIST\",\"_\", \"ITEM PRICE\"))\n",
    "    print(\"================================\")\n",
    "    for index, item in enumerate(itemList, start=1):\n",
    "        print(template.format(index, *item))\n",
    "        print(\"================================\")\n",
    "    print(f\"{len(itemList)+1} | Exit\")"
   ]
  },
  {
   "cell_type": "code",
   "execution_count": 7,
   "metadata": {},
   "outputs": [
    {
     "name": "stdout",
     "output_type": "stream",
     "text": [
      "NO |    ITEM LIST    | ITEM PRICE\n",
      "================================\n",
      "1  | Hand Sanitizer  | 30000   \n",
      "================================\n",
      "2  |     Q-Mask      | 45000   \n",
      "================================\n",
      "3  |    Easy-Mask    | 60000   \n",
      "================================\n",
      "4  | Face Shield OC  | 60000   \n",
      "================================\n",
      "5  | Thermo Gun STD  | 650000  \n",
      "================================\n",
      "6  | Thermo Gun LSR  | 750000  \n",
      "================================\n",
      "7  | Thermo Gun FLT  | 700000  \n",
      "================================\n",
      "8  | Thermo Gun VCE  | 800000  \n",
      "================================\n",
      "9  | Mdc Gloves NTRL | 5000    \n",
      "================================\n",
      "10 |  Mdc Mask STD   | 4000    \n",
      "================================\n",
      "11 | Exit\n"
     ]
    }
   ],
   "source": [
    "dispItemName(itemList)"
   ]
  },
  {
   "cell_type": "code",
   "execution_count": 8,
   "metadata": {},
   "outputs": [],
   "source": [
    "def askToBuy(itemList):\n",
    "    while True:\n",
    "        try:\n",
    "            while True:\n",
    "                clear_output()\n",
    "                dispItemName(itemList)\n",
    "                userItemPick = int(input(\"What would you like to buy? \"))\n",
    "                if userItemPick > len(itemList)+1:\n",
    "                    clear_output()\n",
    "                    input(\"Sorry, your choice exceeding the limit. Enter anything to re-select items. . .\")\n",
    "                else:\n",
    "                    break\n",
    "        except:\n",
    "            clear_output()\n",
    "            input(\"Sorry, that was invalid input. Enter anything to re-select items. . .\")\n",
    "            continue\n",
    "        else:\n",
    "            return userItemPick-1"
   ]
  },
  {
   "cell_type": "code",
   "execution_count": 9,
   "metadata": {},
   "outputs": [],
   "source": [
    "def askQuantity(itemNumber):\n",
    "    itemName = itemList[itemNumber][0]\n",
    "    while True:\n",
    "        try:\n",
    "            clear_output()\n",
    "            itemQuant = abs(int(input(f\"{itemName} Quantity: \")))\n",
    "        except:\n",
    "            clear_output()\n",
    "            input(\"Sorry, invalid input. Enter anything to re-select. . .\")\n",
    "        else:\n",
    "            break\n",
    "    return itemQuant"
   ]
  },
  {
   "cell_type": "code",
   "execution_count": 10,
   "metadata": {},
   "outputs": [],
   "source": [
    "def purchaseAgain():\n",
    "    while True:\n",
    "        clear_output()\n",
    "        userChoice = input(\"Do you want to purchase another item? [Y/N]\")\n",
    "        if userChoice[0].lower() != \"y\" and userChoice[0].lower() != \"n\":\n",
    "            continue\n",
    "        break\n",
    "    return userChoice[0].lower()"
   ]
  },
  {
   "cell_type": "code",
   "execution_count": 11,
   "metadata": {},
   "outputs": [],
   "source": [
    "def viewCart(cartItemList):\n",
    "    '''\n",
    "    Expected parameters:\n",
    "    -cartItemList:\n",
    "        #All values inside the dictionary of user's cart. \n",
    "        #Use dict.values() to get all of the values. \n",
    "    '''\n",
    "    clear_output()\n",
    "    print(\"Your groceries: \")\n",
    "    print(\"{:^3}|{:^20}|{:^10}|{:^10}|{:^10}\".format('NO.', 'ITEM NAME', 'PRICE', 'QUANTITY', \"SUB-TOTAL\"))\n",
    "    print(\"================================================================\")\n",
    "    for index, item in enumerate(cartItemList, start=1):\n",
    "        print(\n",
    "            f\"{index:<3}|{item['itemName']:<20}|{item['itemPrice']:<10}|{item['itemQuant']:<10}|{item['subTotal']}\"\n",
    "        )\n",
    "        print(\"================================================================\")"
   ]
  },
  {
   "cell_type": "code",
   "execution_count": 12,
   "metadata": {},
   "outputs": [],
   "source": [
    "def modCart():\n",
    "    try:\n",
    "        userChoice = abs(int(input(\"What would you like to do with your cart?\\n[1]. Add item\\n[2]. Remove item\\n[3]. Exit\\n\")))\n",
    "        if userChoice > 3 or userChoice < 1:\n",
    "            clear_output()\n",
    "            input(\"Sorry, input out of range. Please input number according to available menu. . .\")\n",
    "            return False\n",
    "    except:\n",
    "        clear_output()\n",
    "        input(\"Sorry, invalid input. Please provide number only. . .\")\n",
    "        return False\n",
    "    else:\n",
    "        return userChoice"
   ]
  },
  {
   "cell_type": "code",
   "execution_count": 13,
   "metadata": {},
   "outputs": [],
   "source": [
    "def removeItem(userCart, customer):\n",
    "    #userCart is a dictionary items that contain tuples where each tuples has length of 2. \n",
    "    #Index 0 is the key, index 1 is a dictionary of values.\n",
    "    tupOfItems = list(userCart.items())\n",
    "    while True:\n",
    "        try:\n",
    "            while True:\n",
    "                viewCart(userCart.values())\n",
    "                userChoice = abs(int(input(\"Which item would you like to remove?\")))-1\n",
    "                if userChoice+1 > len(userCart) or userChoice < 0:\n",
    "                    clear_output()\n",
    "                    input(\"Sorry, input out of bound. Please provide an available input. . .\")\n",
    "                    continue\n",
    "                break\n",
    "        except:\n",
    "            clear_output()\n",
    "            input(\"Sorry, input was not a number. Please provide a number. . .\")\n",
    "            continue\n",
    "        else:\n",
    "            break\n",
    "    \n",
    "    clear_output()\n",
    "    selectedName = tupOfItems[userChoice][1][\"itemName\"]\n",
    "    selectedItemQuant = tupOfItems[userChoice][1][\"itemQuant\"]\n",
    "    \n",
    "    while True:\n",
    "        try:\n",
    "            while True:\n",
    "                removeQuant = abs(int(input(f\"How many {selectedName} you want to remove?\\nCurrently in chart: {selectedItemQuant}\\n\")))\n",
    "                if removeQuant > selectedItemQuant:\n",
    "                    clear_output()\n",
    "                    input(f\"Fail to remove item. Requested ammount exceeding the current ammount.\\nPlease input anything to re-input\\nCurrent ammount: {selectedItemQuant}\")\n",
    "                    continue\n",
    "                break\n",
    "        except:\n",
    "            clear_output()\n",
    "            input(\"Sorry, input was not a number. Please provide a number. . .\")\n",
    "            continue\n",
    "        else:\n",
    "            break\n",
    "    \n",
    "    clear_output()\n",
    "    \n",
    "    itemID = getKey(userCart, selectedName)\n",
    "    \n",
    "    customer.removeFromChart(removeQuant, itemID)"
   ]
  },
  {
   "cell_type": "code",
   "execution_count": 14,
   "metadata": {},
   "outputs": [],
   "source": [
    "def getKey(dictionary, value):\n",
    "    #The dictionary here has integer as a key and another dictionary as value.\n",
    "    for key in dictionary.keys():\n",
    "        if dictionary[key][\"itemName\"] == value:\n",
    "            return key\n",
    "    return f\"No key that has value {value}\""
   ]
  },
  {
   "cell_type": "code",
   "execution_count": 20,
   "metadata": {},
   "outputs": [],
   "source": [
    "sampleList = {\n",
    "    101:{'itemName': 'Thermo Gun STD', 'itemPrice': 650000, 'itemQuant': 1, 'subTotal': 650000},\n",
    "    102:{'itemName': 'Mdc Mask STD', 'itemPrice': 4000, 'itemQuant': 2, 'subTotal': 8000},\n",
    "    103:{'itemName': 'Thermo Gun FLT', 'itemPrice': 700000, 'itemQuant': 2, 'subTotal': 1400000}\n",
    "}"
   ]
  },
  {
   "cell_type": "code",
   "execution_count": 16,
   "metadata": {},
   "outputs": [],
   "source": [
    "def askPayment(totalPrice):\n",
    "    try:\n",
    "        userPay = abs(int(input(\"User pay: \")))\n",
    "        if userPay < totalPrice:\n",
    "            clear_output()\n",
    "            input(\"Not sufficient! Please input equal or more than the total price.\\nEnter anything to re-input\")\n",
    "            return False\n",
    "    except:\n",
    "        input(\"Sorry, input is not valid. Please input numbers only. . .\")\n",
    "        return False\n",
    "    else:\n",
    "        return userPay"
   ]
  },
  {
   "cell_type": "code",
   "execution_count": 39,
   "metadata": {},
   "outputs": [],
   "source": [
    "def storeReciept(userCartValues, total, pay, change):\n",
    "    '''\n",
    "    #Purpose:\n",
    "        -This function will return a very large string, which is the reciept, to be stored in .txt file. \n",
    "    #Parameters:\n",
    "        -userCartValues:\n",
    "            ~Type: list of values of a dictionary\n",
    "            ~Expected to be a list of values generated from dictionary of user's cart. \n",
    "            ~Pass the argument as dict.values()\n",
    "        -total:\n",
    "            ~Type: integer\n",
    "            ~The total grocery price from user\n",
    "        -pay:\n",
    "            ~Type: integer\n",
    "            ~The total ammount that user actually pay to the casheer\n",
    "        -change:\n",
    "            ~Type: integer\n",
    "            ~The result from the 'pay' subtracted with total to get the ammount of change\n",
    "    '''\n",
    "    finalString = \"\"\n",
    "    finalString += \"{:^3}|{:^20}|{:^10}|{:^10}|{:^10}\".format('NO.', 'ITEM NAME', 'PRICE', 'QUANTITY', \"SUB-TOTAL\") + \"\\n\"\n",
    "    finalString += \"================================================================\" + \"\\n\"\n",
    "    for index, item in enumerate(userCartValues, start=1):\n",
    "        finalString += f\"{index:<3}|{item['itemName']:<20}|{item['itemPrice']:<10}|{item['itemQuant']:<10}|{item['subTotal']}\" + \"\\n\"\n",
    "        finalString += \"================================================================\" + \"\\n\"\n",
    "        \n",
    "    finalString += f\"\\t\\t\\t\\t\\tTOTAL: {str(total)}\" + \"\\n\"\n",
    "    finalString += f\"\\t\\t\\t\\t\\tPAY:   {str(pay)}\" + \"\\n\"\n",
    "    finalString += f\"\\t\\t\\t\\t\\tCHANGE: {str(change)}\" + \"\\n\"\n",
    "    \n",
    "    return finalString"
   ]
  },
  {
   "cell_type": "code",
   "execution_count": null,
   "metadata": {},
   "outputs": [],
   "source": []
  },
  {
   "cell_type": "code",
   "execution_count": 40,
   "metadata": {},
   "outputs": [],
   "source": [
    "result = storeReciept(sampleList.values(), 200000, 250000, 50000)"
   ]
  },
  {
   "cell_type": "code",
   "execution_count": 41,
   "metadata": {},
   "outputs": [
    {
     "name": "stdout",
     "output_type": "stream",
     "text": [
      "NO.|     ITEM NAME      |  PRICE   | QUANTITY |SUB-TOTAL \n",
      "================================================================\n",
      "1  |Thermo Gun STD      |650000    |1         |650000\n",
      "================================================================\n",
      "2  |Mdc Mask STD        |4000      |2         |8000\n",
      "================================================================\n",
      "3  |Thermo Gun FLT      |700000    |2         |1400000\n",
      "================================================================\n",
      "\t\t\t\t\tTOTAL: 200000\n",
      "\t\t\t\t\tPAY:   250000\n",
      "\t\t\t\t\tCHANGE: 50000\n",
      "\n"
     ]
    }
   ],
   "source": [
    "print(result)"
   ]
  },
  {
   "cell_type": "markdown",
   "metadata": {},
   "source": [
    "## Global Variables"
   ]
  },
  {
   "cell_type": "code",
   "execution_count": null,
   "metadata": {},
   "outputs": [],
   "source": []
  },
  {
   "cell_type": "code",
   "execution_count": 18,
   "metadata": {},
   "outputs": [],
   "source": [
    "aboutStore = '''\n",
    "* * * * * \n",
    "Our store specifically sells PES Equipments with great-guaranteed quality.\n",
    "We sell items starting from basic hand-sanitizer until the latest thermogun model.\n",
    "Our store is located in the middle of the town at: \n",
    "\\txxth Avenue\n",
    "\\txxth Larenggam street\n",
    "\\tBuilding number 5\n",
    "\n",
    "We prioritize customer's experience along with the quality of our products and services. \n",
    "Our product is sealed neatly to prevent contamination from viruses and bacteria for our product.\n",
    "\n",
    "So what are you waiting for? Come down to our store and grab your utilities now.\n",
    "* * * * *\n",
    "'''"
   ]
  },
  {
   "cell_type": "markdown",
   "metadata": {},
   "source": [
    "## Driver Code"
   ]
  },
  {
   "cell_type": "code",
   "execution_count": 82,
   "metadata": {},
   "outputs": [
    {
     "name": "stdout",
     "output_type": "stream",
     "text": [
      "Thank you for using our store!\n",
      "Please come again. . .\n"
     ]
    }
   ],
   "source": [
    "storeOn = True\n",
    "\n",
    "customer = Customer(\"Henry\")\n",
    "\n",
    "while storeOn:\n",
    "    \n",
    "    clear_output()\n",
    "    print(\"Hello! Welcome to Personal Protective Equipment Store!\")\n",
    "    mainMenu = input(\"Please choose one of these menu:\\n[1]. Buy\\n[2]. View Chart\\n[3]. Payment\\n[4]. About Store\\n[5]. Exit\\n\")\n",
    "    \n",
    "    if mainMenu == \"1\":\n",
    "        #Purchase Menu\n",
    "        while True:\n",
    "            itemNumber = askToBuy(itemList)\n",
    "            if itemNumber == len(itemList):\n",
    "                break\n",
    "\n",
    "            itemQuantity = askQuantity(itemNumber)\n",
    "\n",
    "            itemName = itemList[itemNumber][0]\n",
    "            itemID = itemList[itemNumber][1]\n",
    "            itemPrice = itemList[itemNumber][2]\n",
    "            itemSubTotal = itemPrice * itemQuantity\n",
    "\n",
    "            itemTempCart = {\n",
    "                itemID : {\"itemName\":itemName, \"itemPrice\":itemPrice, \"itemQuant\":itemQuantity, \"subTotal\":itemSubTotal}\n",
    "            }\n",
    "\n",
    "            customer.addToChart(itemTempCart, itemID)\n",
    "            \n",
    "            if purchaseAgain() == \"y\":\n",
    "                continue\n",
    "            break\n",
    "            \n",
    "    elif mainMenu == \"2\":\n",
    "        #View Chart Menu\n",
    "        while True:\n",
    "            viewCart(customer.cart.values())\n",
    "            \n",
    "            itemTotalPrice = 0\n",
    "            for subTotal in customer.cart.values():\n",
    "                itemTotalPrice += subTotal['subTotal']\n",
    "                \n",
    "            print(f\"\\t\\t\\t\\t\\tTOTAL: {itemTotalPrice}\")\n",
    "            \n",
    "            userMod = modCart()\n",
    "            if userMod == False:\n",
    "                continue\n",
    "            break\n",
    "        \n",
    "        if userMod == 1:\n",
    "            #Add item\n",
    "            clear_output()\n",
    "            input(\"Please refer to the buy menu. . .\")\n",
    "        elif userMod == 2:\n",
    "            #Remove item\n",
    "            clear_output()\n",
    "            removeItem(customer.cart, customer)\n",
    "            clear_output()\n",
    "            input(\"Item Removed successfuly!\")\n",
    "        else:\n",
    "            #Exit view cart menu\n",
    "            continue\n",
    "\n",
    "        \n",
    "    elif mainMenu == \"3\":\n",
    "        #Payment menu\n",
    "        \n",
    "        itemTotalPrice = 0\n",
    "        for subTotal in customer.cart.values():\n",
    "            itemTotalPrice += subTotal['subTotal']\n",
    "                \n",
    "        while True:\n",
    "            viewCart(customer.cart.values())\n",
    "            print(f\"\\t\\t\\t\\t\\tTOTAL: {itemTotalPrice}\")\n",
    "            pay = askPayment(itemTotalPrice)\n",
    "            if pay == False:\n",
    "                continue\n",
    "            break\n",
    "                \n",
    "        changeMoney = pay - itemTotalPrice\n",
    "        viewCart(customer.cart.values())\n",
    "        print(f\"\\t\\t\\t\\t\\tTOTAL: {itemTotalPrice}\")\n",
    "        print(f\"\\t\\t\\t\\t\\tPAYMENT: {pay}\")\n",
    "        print(f\"\\t\\t\\t\\t\\tCHANGE: {changeMoney}\")\n",
    "        printReciept = input(\"Do you want to print reciept?\\n[Press \\\"Y\\\" if you want to continue. . .]\")\n",
    "        if printReciept[0].lower() == \"y\":\n",
    "            currentDateTime = datetime.datetime.now().strftime(\"%Y-%m-%d, %H-%M\")\n",
    "            fileName = f\"{customer.name}_{currentDateTime}\"\n",
    "            \n",
    "            with open(f\"reciept\\\\{fileName}.txt\", mode=\"w\") as file:\n",
    "                temp = customer.cart.values()\n",
    "                reciept = storeReciept(temp, itemTotalPrice, pay, changeMoney)\n",
    "                file.write(reciept)\n",
    "            \n",
    "            clear_output()\n",
    "            input(\"All Done! Press anything to quit. . .\")\n",
    "        break\n",
    "        \n",
    "    \n",
    "    elif mainMenu == \"4\":\n",
    "        #About Store Menu\n",
    "        clear_output()\n",
    "        print(aboutStore)\n",
    "        input(\"Input anything to go back to previous menu. . .\")\n",
    "        \n",
    "    elif mainMenu == \"5\":\n",
    "        #Exit menu\n",
    "        break\n",
    "    else:\n",
    "        continue\n",
    "        \n",
    "clear_output()\n",
    "print(\"Thank you for using our store!\\nPlease come again. . .\")"
   ]
  },
  {
   "cell_type": "markdown",
   "metadata": {},
   "source": [
    "# IMPORTANT!!\n",
    "# RUN THE CELL BELOW IF YOU WANT TO EXIT!\n",
    "# ELSE, SQL SERVER MANAGEMENT STUDIO CAN'T BE USED EXTERNALLY"
   ]
  },
  {
   "cell_type": "code",
   "execution_count": 83,
   "metadata": {},
   "outputs": [],
   "source": [
    "dbCursor.close()\n",
    "dbConn.close()"
   ]
  },
  {
   "cell_type": "code",
   "execution_count": 79,
   "metadata": {},
   "outputs": [],
   "source": [
    "sampleDate = datetime.datetime.now().strftime(\"%Y-%m-%d, %H-%M\")"
   ]
  },
  {
   "cell_type": "code",
   "execution_count": 80,
   "metadata": {},
   "outputs": [],
   "source": [
    "sampleVar = \"sampleFileName\"\n",
    "with open(f\"reciept\\\\{sampleDate}.txt\", mode=\"w\") as file:\n",
    "    file.write(\"Hello world!\\nSample File and string\")"
   ]
  },
  {
   "cell_type": "code",
   "execution_count": 81,
   "metadata": {},
   "outputs": [
    {
     "name": "stdout",
     "output_type": "stream",
     "text": [
      "2020-07-10, 23-27\n"
     ]
    }
   ],
   "source": [
    "print(sampleDate)"
   ]
  },
  {
   "cell_type": "code",
   "execution_count": null,
   "metadata": {},
   "outputs": [],
   "source": []
  }
 ],
 "metadata": {
  "kernelspec": {
   "display_name": "Python 3",
   "language": "python",
   "name": "python3"
  },
  "language_info": {
   "codemirror_mode": {
    "name": "ipython",
    "version": 3
   },
   "file_extension": ".py",
   "mimetype": "text/x-python",
   "name": "python",
   "nbconvert_exporter": "python",
   "pygments_lexer": "ipython3",
   "version": "3.7.6"
  }
 },
 "nbformat": 4,
 "nbformat_minor": 4
}
